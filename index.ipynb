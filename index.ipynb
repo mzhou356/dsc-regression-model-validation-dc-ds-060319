{
 "cells": [
  {
   "cell_type": "markdown",
   "metadata": {},
   "source": [
    "# Regression Model Validation\n",
    "\n",
    "## Introduction\n",
    "\n",
    "Previously you've briefly touched upon model evaluation when using a multiple linear regression model for prediction. In this section you'll learn why it's important to split your data in a train and a test set if you want to do proper performance evaluation.\n",
    "\n",
    "## Objectives\n",
    "\n",
    "You will be able to:\n",
    "- Test a trained model with unseen data and calculate the RMSE\n",
    "- Split the data in Pandas and Scikit-Learn using train-test-split\n",
    "- Understand the rationale behind a train-test-split\n",
    "- Understand the need for validation testing in predictive analysis\n",
    "\n",
    "## The need for train-test-split\n",
    "\n",
    "### Making predictions and evaluation\n",
    "\n",
    "So far we've simply been fitting models to data, and evaluated our models calculating the errors between our $\\hat y$ and our actual targets $y$, while these targets $y$ contributed in fitting the model.\n",
    "\n",
    "The reason why we built the model in the first place, however, is because we want to predict the outcome for observations that are not necessarily in our data set now. Eg: we want to predict mile per gallon for a new car that isn't part of our data set, or for a new house in Boston.\n",
    "\n",
    "In order to get a good sense of how well your model will be doing on new instances, you'll have to perform a so-called \"train-test-split\". What you'll be doing here, is take a sample of the data that serves as input to \"train\" our model - fit a linear regression and compute the parameter estimates for our variables, and calculate how well our predictive performance is doing comparing the actual targets $y$ and the fitted $\\hat y$ obtained by our model.\n",
    "\n",
    "### Underfitting and overfitting\n",
    "\n",
    "Another reason to use train-test-split is because of a common problem which doesn't only affect linear models, but nearly all (other) machine learning algorithms: overfitting and underfitting. An overfit model is not generalizable and will not hold to future cases. An underfit model does not make full use of the information available and produces weaker predictions than is feasible. The following image gives a nice, more general demonstration:"
   ]
  },
  {
   "cell_type": "markdown",
   "metadata": {},
   "source": [
    "<img src='./images/new_overfit_underfit.png'>"
   ]
  },
  {
   "cell_type": "markdown",
   "metadata": {},
   "source": [
    "## How to evaluate?"
   ]
  },
  {
   "cell_type": "markdown",
   "metadata": {},
   "source": [
    "It is pretty straightforward that, to evaluate our model, you'll want to compare your predicted values, $\\hat y$ with the actual value, $y$. The difference between the two values is referred to as the residuals. When using a train test split, you'll compare your residuals for both test set and training set:\n",
    "\n",
    "$r_{i,train} = y_{i,train} - \\hat y_{i,train}$ \n",
    "\n",
    "$r_{i,test} = y_{i,test} - \\hat y_{i,test}$ \n",
    "\n",
    "To get a summarized measure over all the instances in the test set and training set, a popular metric is the (Root) Mean Squared Error:\n",
    "\n",
    "RMSE = $\\sqrt{\\frac{1}{n}\\sum_{i=1}^{n}(y_{i} - \\hat y_{i})^2}$\n",
    "\n",
    "MSE = $\\frac{1}{n}\\sum_{i=1}^{n}(y_{i} - \\hat y_{i})^2$\n",
    "\n",
    "Again, you can compute these for both the traing and the test set. A big difference in value between the test and training set (R)MSE is an indication of overfitting."
   ]
  },
  {
   "cell_type": "markdown",
   "metadata": {},
   "source": [
    "## Applying this to our auto-mpg data"
   ]
  },
  {
   "cell_type": "markdown",
   "metadata": {},
   "source": [
    "Let's copy our pre-processed auto-mpg data again"
   ]
  },
  {
   "cell_type": "code",
   "execution_count": 1,
   "metadata": {},
   "outputs": [],
   "source": [
    "import pandas as pd\n",
    "import numpy as np\n",
    "data = pd.read_csv(\"auto-mpg.csv\") \n",
    "data['horsepower'].astype(str).astype(int)\n",
    "\n",
    "acc = data[\"acceleration\"]\n",
    "logdisp = np.log(data[\"displacement\"])\n",
    "loghorse = np.log(data[\"horsepower\"])\n",
    "logweight= np.log(data[\"weight\"])\n",
    "\n",
    "scaled_acc = (acc-min(acc))/(max(acc)-min(acc))\t\n",
    "scaled_disp = (logdisp-np.mean(logdisp))/np.sqrt(np.var(logdisp))\n",
    "scaled_horse = (loghorse-np.mean(loghorse))/(max(loghorse)-min(loghorse))\n",
    "scaled_weight= (logweight-np.mean(logweight))/np.sqrt(np.var(logweight))\n",
    "\n",
    "data_fin = pd.DataFrame([])\n",
    "data_fin[\"acc\"]= scaled_acc\n",
    "data_fin[\"disp\"]= scaled_disp\n",
    "data_fin[\"horse\"] = scaled_horse\n",
    "data_fin[\"weight\"] = scaled_weight\n",
    "cyl_dummies = pd.get_dummies(data[\"cylinders\"], prefix=\"cyl\")\n",
    "yr_dummies = pd.get_dummies(data[\"model year\"], prefix=\"yr\")\n",
    "orig_dummies = pd.get_dummies(data[\"origin\"], prefix=\"orig\")\n",
    "mpg = data[\"mpg\"]\n",
    "data_fin = pd.concat([mpg, data_fin, cyl_dummies, yr_dummies, orig_dummies], axis=1)"
   ]
  },
  {
   "cell_type": "code",
   "execution_count": 2,
   "metadata": {},
   "outputs": [
    {
     "data": {
      "text/plain": [
       "(      mpg\n",
       " 0    18.0\n",
       " 1    15.0\n",
       " 2    18.0\n",
       " 3    16.0\n",
       " 4    17.0\n",
       " 5    15.0\n",
       " 6    14.0\n",
       " 7    14.0\n",
       " 8    14.0\n",
       " 9    15.0\n",
       " 10   15.0\n",
       " 11   14.0\n",
       " 12   15.0\n",
       " 13   14.0\n",
       " 14   24.0\n",
       " 15   22.0\n",
       " 16   18.0\n",
       " 17   21.0\n",
       " 18   27.0\n",
       " 19   26.0\n",
       " 20   25.0\n",
       " 21   24.0\n",
       " 22   25.0\n",
       " 23   26.0\n",
       " 24   21.0\n",
       " 25   10.0\n",
       " 26   10.0\n",
       " 27   11.0\n",
       " 28    9.0\n",
       " 29   27.0\n",
       " ..    ...\n",
       " 362  28.0\n",
       " 363  27.0\n",
       " 364  34.0\n",
       " 365  31.0\n",
       " 366  29.0\n",
       " 367  27.0\n",
       " 368  24.0\n",
       " 369  36.0\n",
       " 370  37.0\n",
       " 371  31.0\n",
       " 372  38.0\n",
       " 373  36.0\n",
       " 374  36.0\n",
       " 375  36.0\n",
       " 376  34.0\n",
       " 377  38.0\n",
       " 378  32.0\n",
       " 379  38.0\n",
       " 380  25.0\n",
       " 381  38.0\n",
       " 382  26.0\n",
       " 383  22.0\n",
       " 384  32.0\n",
       " 385  36.0\n",
       " 386  27.0\n",
       " 387  27.0\n",
       " 388  44.0\n",
       " 389  32.0\n",
       " 390  28.0\n",
       " 391  31.0\n",
       " \n",
       " [392 rows x 1 columns],      acceleration    weight  orig_1  orig_2  orig_3\n",
       " 0        0.238095  0.720986       1       0       0\n",
       " 1        0.208333  0.908047       1       0       0\n",
       " 2        0.178571  0.651205       1       0       0\n",
       " 3        0.238095  0.648095       1       0       0\n",
       " 4        0.148810  0.664652       1       0       0\n",
       " 5        0.119048  1.483701       1       0       0\n",
       " 6        0.059524  1.494349       1       0       0\n",
       " 7        0.029762  1.459834       1       0       0\n",
       " 8        0.119048  1.551945       1       0       0\n",
       " 9        0.029762  1.056296       1       0       0\n",
       " 10       0.119048  0.780443       1       0       0\n",
       " 11       0.000000  0.826120       1       0       0\n",
       " 12       0.089286  0.973016       1       0       0\n",
       " 13       0.119048  0.268664       1       0       0\n",
       " 14       0.416667 -0.668325       0       0       1\n",
       " 15       0.446429 -0.035923       1       0       0\n",
       " 16       0.446429 -0.110862       1       0       0\n",
       " 17       0.476190 -0.359373       1       0       0\n",
       " 18       0.386905 -1.051504       0       0       1\n",
       " 19       0.744048 -1.582335       0       1       0\n",
       " 20       0.565476 -0.244259       0       1       0\n",
       " 21       0.386905 -0.582305       0       1       0\n",
       " 22       0.565476 -0.663824       0       1       0\n",
       " 23       0.267857 -0.881756       0       1       0\n",
       " 24       0.416667 -0.276387       1       0       0\n",
       " 25       0.357143  1.701646       1       0       0\n",
       " 26       0.416667  1.512295       1       0       0\n",
       " 27       0.327381  1.517174       1       0       0\n",
       " 28       0.625000  1.790793       1       0       0\n",
       " 29       0.386905 -1.051504       0       0       1\n",
       " ..            ...       ...     ...     ...     ...\n",
       " 362      0.690476 -0.334684       1       0       0\n",
       " 363      0.630952 -0.287161       1       0       0\n",
       " 364      0.595238 -0.633964       1       0       0\n",
       " 365      0.488095 -0.375929       1       0       0\n",
       " 366      0.476190 -0.445750       1       0       0\n",
       " 367      0.595238 -0.161279       1       0       0\n",
       " 368      0.500000  0.004072       1       0       0\n",
       " 369      0.434524 -1.311530       0       1       0\n",
       " 370      0.607143 -1.231509       0       0       1\n",
       " 371      0.571429 -1.329559       0       0       1\n",
       " 372      0.398810 -1.059873       1       0       0\n",
       " 373      0.553571 -1.059873       1       0       0\n",
       " 374      0.386905 -1.001703       0       0       1\n",
       " 375      0.386905 -0.928282       0       0       1\n",
       " 376      0.529762 -0.864267       0       0       1\n",
       " 377      0.416667 -1.338608       0       0       1\n",
       " 378      0.458333 -1.338608       0       0       1\n",
       " 379      0.488095 -1.284656       0       0       1\n",
       " 380      0.500000  0.102138       1       0       0\n",
       " 381      0.535714  0.185784       1       0       0\n",
       " 382      0.386905 -0.362127       1       0       0\n",
       " 383      0.398810 -0.033410       1       0       0\n",
       " 384      0.351190 -0.253600       0       0       1\n",
       " 385      0.297619 -0.671328       1       0       0\n",
       " 386      0.553571  0.108178       1       0       0\n",
       " 387      0.452381 -0.090383       1       0       0\n",
       " 388      0.988095 -1.051504       0       1       0\n",
       " 389      0.214286 -0.785832       1       0       0\n",
       " 390      0.630952 -0.307450       1       0       0\n",
       " 391      0.678571 -0.180861       1       0       0\n",
       " \n",
       " [392 rows x 5 columns])"
      ]
     },
     "execution_count": 2,
     "metadata": {},
     "output_type": "execute_result"
    }
   ],
   "source": [
    "data = pd.concat([mpg, scaled_acc, scaled_weight, orig_dummies], axis= 1)\n",
    "y = data[[\"mpg\"]]\n",
    "X = data.drop([\"mpg\"], axis=1)\n",
    "y, X"
   ]
  },
  {
   "cell_type": "markdown",
   "metadata": {},
   "source": [
    "Scikit-learn has a very useful function `train-test-split`. The optional argument `test_size` makes it possible to choose the size of he test set and the training set."
   ]
  },
  {
   "cell_type": "code",
   "execution_count": 3,
   "metadata": {},
   "outputs": [],
   "source": [
    "from sklearn.model_selection import train_test_split\n",
    "X_train, X_test, y_train, y_test = train_test_split(X, y, test_size = 0.2)"
   ]
  },
  {
   "cell_type": "code",
   "execution_count": 33,
   "metadata": {},
   "outputs": [
    {
     "name": "stdout",
     "output_type": "stream",
     "text": [
      "313 79 313 79\n"
     ]
    }
   ],
   "source": [
    "print(len(X_train), len(X_test), len(y_train), len(y_test))"
   ]
  },
  {
   "cell_type": "code",
   "execution_count": 4,
   "metadata": {},
   "outputs": [],
   "source": [
    "from sklearn.linear_model import LinearRegression\n",
    "linreg = LinearRegression()\n",
    "linreg.fit(X_train, y_train)\n",
    "\n",
    "y_hat_train = linreg.predict(X_train)\n",
    "y_hat_test = linreg.predict(X_test)"
   ]
  },
  {
   "cell_type": "markdown",
   "metadata": {},
   "source": [
    "Look at the residuals and the "
   ]
  },
  {
   "cell_type": "code",
   "execution_count": 6,
   "metadata": {},
   "outputs": [
    {
     "data": {
      "text/plain": [
       "(           mpg\n",
       " 379  -5.514594\n",
       " 346  -6.459222\n",
       " 299  -6.149381\n",
       " 319  -2.637089\n",
       " 41   -1.715384\n",
       " 355  -9.150084\n",
       " 368  -0.986548\n",
       " 330  -9.267396\n",
       " 329   2.451241\n",
       " 208   5.095990\n",
       " 235  -0.192775\n",
       " 232  -0.607958\n",
       " 7    -1.324552\n",
       " 302  -8.250947\n",
       " 268   6.136284\n",
       " 97    4.438848\n",
       " 310  -4.931771\n",
       " 100  -0.355864\n",
       " 130   0.699882\n",
       " 334  -1.313390\n",
       " 76    4.168741\n",
       " 270  -0.474291\n",
       " 213   3.731787\n",
       " 135  -0.983619\n",
       " 148   2.460048\n",
       " 221  -0.922860\n",
       " 120   3.277067\n",
       " 263  -2.609467\n",
       " 373  -6.394361\n",
       " 125   3.666324\n",
       " ..         ...\n",
       " 110  12.606650\n",
       " 151   0.889749\n",
       " 5    -2.171948\n",
       " 236  -3.659946\n",
       " 389  -5.173174\n",
       " 168   2.578229\n",
       " 123   5.665443\n",
       " 166   1.895964\n",
       " 240   2.893183\n",
       " 96    3.195956\n",
       " 371   2.032846\n",
       " 273   3.500233\n",
       " 229  -2.157819\n",
       " 184   1.453999\n",
       " 98    4.343173\n",
       " 169   1.439714\n",
       " 105   0.554754\n",
       " 351  -3.311687\n",
       " 160   2.863507\n",
       " 265  -0.763021\n",
       " 31    4.679286\n",
       " 153   6.535949\n",
       " 39    0.465135\n",
       " 104  -1.073545\n",
       " 139  -0.473899\n",
       " 264  -0.853438\n",
       " 114  -0.258352\n",
       " 92    0.238100\n",
       " 142   5.633647\n",
       " 339  -3.724683\n",
       " \n",
       " [313 rows x 1 columns],            mpg\n",
       " 382  -1.154374\n",
       " 284  -0.814615\n",
       " 324 -14.544580\n",
       " 217   2.050997\n",
       " 342  -0.238650\n",
       " 274   1.813895\n",
       " 149  -0.342099\n",
       " 336  -1.262847\n",
       " 253  -1.169287\n",
       " 385  -9.586764\n",
       " 194   5.664013\n",
       " 210  -3.448855\n",
       " 262   1.478202\n",
       " 109   6.765722\n",
       " 295  -6.128212\n",
       " 186  -1.818936\n",
       " 78    3.114802\n",
       " 245  -7.232434\n",
       " 134  -1.368746\n",
       " 200   3.463310\n",
       " 51   -0.325177\n",
       " 46    0.819677\n",
       " 81    4.253943\n",
       " 42   -1.691429\n",
       " 219  -1.767689\n",
       " 323 -13.408911\n",
       " 64    0.495889\n",
       " 85    2.717455\n",
       " 260  -0.651656\n",
       " 12    0.808025\n",
       " ..         ...\n",
       " 247  -0.517631\n",
       " 175   1.065626\n",
       " 180  -1.919798\n",
       " 141   1.361125\n",
       " 83    4.443588\n",
       " 234  -1.764690\n",
       " 80    1.701817\n",
       " 292  -1.595963\n",
       " 68    0.958581\n",
       " 370  -4.439677\n",
       " 254  -1.192317\n",
       " 182   0.032922\n",
       " 242 -11.193338\n",
       " 338  -3.741970\n",
       " 357  -0.440039\n",
       " 203   2.868825\n",
       " 50    0.569784\n",
       " 67   -0.261892\n",
       " 381 -15.963446\n",
       " 297  -4.825072\n",
       " 191  -1.823477\n",
       " 0    -0.178382\n",
       " 8    -1.583376\n",
       " 361   1.371143\n",
       " 354  -6.862299\n",
       " 74    0.965623\n",
       " 156  -3.045146\n",
       " 275   2.964285\n",
       " 376  -3.910664\n",
       " 143   0.952953\n",
       " \n",
       " [79 rows x 1 columns])"
      ]
     },
     "execution_count": 6,
     "metadata": {},
     "output_type": "execute_result"
    }
   ],
   "source": [
    "train_residuals = y_hat_train - y_train\n",
    "test_residuals = y_hat_test - y_test\n",
    "train_residuals, test_residuals"
   ]
  },
  {
   "cell_type": "code",
   "execution_count": 7,
   "metadata": {},
   "outputs": [
    {
     "name": "stdout",
     "output_type": "stream",
     "text": [
      "Train Mean Squarred Error: mpg    16.30928\n",
      "dtype: float64\n",
      "Test Mean Squarred Error: mpg    18.64872\n",
      "dtype: float64\n"
     ]
    }
   ],
   "source": [
    "mse_train = np.sum((y_train-y_hat_train)**2)/len(y_train)\n",
    "mse_test =np.sum((y_test-y_hat_test)**2)/len(y_test)\n",
    "print('Train Mean Squarred Error:', mse_train)\n",
    "print('Test Mean Squarred Error:', mse_test)"
   ]
  },
  {
   "cell_type": "markdown",
   "metadata": {},
   "source": [
    "Sklearn also has a very function `mean_squared_error`."
   ]
  },
  {
   "cell_type": "code",
   "execution_count": 37,
   "metadata": {},
   "outputs": [
    {
     "name": "stdout",
     "output_type": "stream",
     "text": [
      "Train Mean Squarred Error: 16.22324478035774\n",
      "Test Mean Squarred Error: 18.395887468660337\n"
     ]
    }
   ],
   "source": [
    "from sklearn.metrics import mean_squared_error\n",
    "\n",
    "train_mse = mean_squared_error(y_train, y_hat_train)\n",
    "test_mse = mean_squared_error(y_test, y_hat_test)\n",
    "print('Train Mean Squarred Error:', train_mse)\n",
    "print('Test Mean Squarred Error:', test_mse)"
   ]
  },
  {
   "cell_type": "markdown",
   "metadata": {},
   "source": [
    "Great, there does not seem to be a big difference between the train and test MSE!"
   ]
  },
  {
   "cell_type": "markdown",
   "metadata": {},
   "source": [
    "## Additional resources\n",
    "\n",
    "Great! By now, you have a lot of ingredients to build a pretty good (multiple) linear regression model. We'll add one more concept in the next section: the idea of cross-validation. But first, we strongly recommend to have a look at [this blogpost](https://towardsdatascience.com/linear-regression-in-python-9a1f5f000606) to get a refresher on a lot of the concepts learned!"
   ]
  },
  {
   "cell_type": "markdown",
   "metadata": {},
   "source": [
    "## Summary \n",
    "\n",
    "Great! Now let's put this into practice on our Boston Housing Data!"
   ]
  }
 ],
 "metadata": {
  "kernelspec": {
   "display_name": "Python 3",
   "language": "python",
   "name": "python3"
  },
  "language_info": {
   "codemirror_mode": {
    "name": "ipython",
    "version": 3
   },
   "file_extension": ".py",
   "mimetype": "text/x-python",
   "name": "python",
   "nbconvert_exporter": "python",
   "pygments_lexer": "ipython3",
   "version": "3.6.6"
  }
 },
 "nbformat": 4,
 "nbformat_minor": 2
}
